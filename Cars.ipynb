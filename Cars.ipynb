{
 "cells": [
  {
   "cell_type": "markdown",
   "metadata": {},
   "source": [
    "# Maximum en minimum snelheid\n",
    "\n",
    "Men kan de snelheid van een voertuig berekenen door middel van de volgende formule: \n",
    "s = d/t\n",
    "s = snelheid in m/s\n",
    "d = afstand in meter\n",
    "t = tijd in seconden "
   ]
  },
  {
   "cell_type": "code",
   "execution_count": 1,
   "metadata": {},
   "outputs": [],
   "source": [
    "import csv\n",
    "import matplotlib.pyplot as plt\n",
    "\n",
    "timeFile1 = []\n",
    "pos1 = []\n",
    "pos2 = []\n",
    "\n",
    "def readFilePos():\n",
    "    with open(\"VRP.csv\") as f:\n",
    "        f = csv.reader(f, delimiter=';')\n",
    "        for row in f:\n",
    "            timeFile1.append(float(row[0]))\n",
    "            pos1.append(float(row[1]))\n",
    "            pos2.append(float(row[2]))\n",
    "  "
   ]
  },
  {
   "cell_type": "markdown",
   "metadata": {},
   "source": [
    "readFilePos() is een functie die de file van het eerste deel van de opdracht inleest. Alle informatie die wordt ingelezen wordt toegevoegd aan 3 verschillende arrays: 1 array voor de tijd, de andere 2 arrays voor de posities van de twee voertuigen. "
   ]
  },
  {
   "cell_type": "code",
   "execution_count": 2,
   "metadata": {},
   "outputs": [],
   "source": [
    "def speedCalc(dist, sec):\n",
    "    speedArr = []\n",
    "    for i in range(len(dist)):\n",
    "        if sec[i] != 0:\n",
    "            distance = dist[i] - dist[i-1]\n",
    "            speed = distance/sec[i]\n",
    "            speedArr.append(speed)\n",
    "\n",
    "    return speedArr"
   ]
  },
  {
   "cell_type": "markdown",
   "metadata": {},
   "source": [
    "speedCalc(dist, sec) is uiteindelijk de functie die de snelheden van de voertuigen op verschillende tijdstippen uitrekent. Dit wordt gedaan door eerst te berekenen hoeveel meter afstand een voertuig heeft afgelegd tussen de huidige afstand en de vorige afstand. Deze gevonden afstand wordt daarna gedeeld door het aantal seconden dat is verstreken. Hier komt dan de snelheid van de auto op dat moment uit. Deze snelheid wordt toegevoegd aan de array 'speedArr'. Deze array wordt op het eind van de functie teruggegeven."
   ]
  },
  {
   "cell_type": "code",
   "execution_count": 4,
   "metadata": {},
   "outputs": [
    {
     "name": "stdout",
     "output_type": "stream",
     "text": [
      "Max speed of vehicle 1 is 4.594903169999999 m/s minimum speed of vehicle 1 is 0.0010627615062762305 m/s\n",
      "Max speed of vehicle 2 is 1.9510565199999963 m/s minimum speed of vehicle 1 is 0.0 m/s\n"
     ]
    },
    {
     "data": {
      "image/png": "[encoded data removed]",
      "text/plain": [
       "<Figure size 432x288 with 1 Axes>"
      ]
     },
     "metadata": {
      "needs_background": "light"
     },
     "output_type": "display_data"
    }
   ],
   "source": [
    "def findSpeeds():\n",
    "    readFilePos()\n",
    "\n",
    "    speedArr1 = speedCalc(pos1, timeFile1)\n",
    "    speedArr2 = speedCalc(pos2, timeFile1)\n",
    "\n",
    "    maxspeed1 = max(speedArr1)\n",
    "    maxspeed2 = max(speedArr2)\n",
    "\n",
    "    minspeed1 = min(speedArr1)\n",
    "    minspeed2 = min(speedArr2)\n",
    "\n",
    "    print(\"Max speed of vehicle 1 is\", maxspeed1, \"m/s minimum speed of vehicle 1 is\", minspeed1, \"m/s\")\n",
    "    print(\"Max speed of vehicle 2 is\", maxspeed2, \"m/s minimum speed of vehicle 1 is\", minspeed2, \"m/s\")\n",
    "\n",
    "    plt.subplot(2, 1, 1)\n",
    "    plt.plot(timeFile1[1:], speedArr1)\n",
    "    plt.plot(timeFile1[1:], speedArr2)\n",
    "    plt.ylabel(\"speed (m/s)\")\n",
    "    plt.xlabel(\"time (s)\")\n",
    "\n",
    "\n",
    "findSpeeds()\n"
   ]
  },
  {
   "cell_type": "markdown",
   "metadata": {},
   "source": [
    "findSpeeds() is de functie die 'readFilePos' en 'speedCalc' aanroept. Het is dus de 'main' functie van dit onderdeel. Deze functie print de maximum en minimum snelheid van de twee voertuigen uit (deze snelheden worden gevonden door 'max()' en 'min()' op de speedArr's uit te voeren). Daarnaast maakt deze functie een plot aan om alle snelheden van beide voertuigen weer te geven. "
   ]
  },
  {
   "cell_type": "markdown",
   "metadata": {},
   "source": [
    "# Botsing \n",
    "\n",
    "We starten met de snelheden van 3 auto's en tijdstippen. Om de afgelegde afstand te berekenen gebruik je de volgende formule:\n",
    "d = s x t \n",
    "d = afstand in meters\n",
    "s = snelheid in m/s\n",
    "t = tijd in seconden "
   ]
  },
  {
   "cell_type": "code",
   "execution_count": 5,
   "metadata": {},
   "outputs": [],
   "source": [
    "timeFile2 = []\n",
    "speed1 = []\n",
    "speed2 = []\n",
    "speed3 = []\n",
    "\n",
    "def readFileSpeeds():\n",
    "    with open(\"VRS.csv\") as f:\n",
    "        f = csv.reader(f, delimiter=';')\n",
    "        for row in f:\n",
    "            try:\n",
    "                timeFile2.append(float(row[0]))\n",
    "                speed1.append((float(row[1]) * .1) + float(speed1[-1]))\n",
    "                speed2.append((float(row[2]) * .1) + float(speed2[-1]))\n",
    "                speed3.append((float(row[3]) * .1)+ float(speed3[-1]))\n",
    "            except:\n",
    "                speed1.append(float(row[1]))\n",
    "                speed2.append(float(row[2]))\n",
    "                speed3.append(float(row[3]))"
   ]
  },
  {
   "cell_type": "markdown",
   "metadata": {},
   "source": [
    "readFileSpeeds() is vergelijkbaar met readFilePos(): beide functies lezen een file in en zetten de informatie in arrays. \n",
    "\n",
    "Echter doet readFileSpeeds() net iets meer dan alleen dat. De functie berekent ook voor ieder voertuig de totaal afgelegde afstand. Dit is dus d = s x t. Echter tellen we hierbij ook de totaal afgelegde afstand van de vorige berekening er bij op. Hierdoor krijg je dan uiteindelijk de totaal afgelegde afstand van ieder voertuig op alle tijdstippen die in het csv file staan. \n",
    "\n",
    "De try-except statement is er omdat het csv-bestand in het begin de start-posities van iedere auto laat zien, en daarna pas de snelheden van de auto's. "
   ]
  },
  {
   "cell_type": "code",
   "execution_count": 6,
   "metadata": {},
   "outputs": [],
   "source": [
    "def findCollisions(p1, p2):\n",
    "    if p1[0] > p2[0]:\n",
    "        for i in range(len(p1)):\n",
    "            if p1[i] < p2[i]:\n",
    "                print(\"tussen \"+str(timeFile2[i-1])+\"s en \"+str(timeFile2[i])+\"s vind een botsing plaats tussen \")\n",
    "                return True\n",
    "    elif p1[0] < p2[0]:\n",
    "        for i in range(len(p1)):\n",
    "            if p1[i] > p2[i]:\n",
    "                print(\"tussen \"+str(timeFile2[i-1])+\" en \"+str(timeFile2[i])+\" vind een botsing plaats tussen \")\n",
    "                return False\n",
    "    return False"
   ]
  },
  {
   "cell_type": "markdown",
   "metadata": {},
   "source": [
    "findCollisions() kijkt of die een botsing tussen twee voertuigen kan vinden of niet. Dit wordt op deze manier gedaan:\n",
    "Eerst kijkt de functie welke van de twee voertuigen achter de ander rijdt. Daarna kijkt de functie voor alle tijdstippen of het achterblijvende voertuig het andere voertuig ooit 'inhaalt'. Als deze wordt 'ingehaald' dan betekent dat dat de twee voertuigen met elkaar botsen. De functie print dan tussen welke tijden de botsing heeft plaatsgevonden en geeft daarna 'True' als boolean waarde terug. \n",
    "\n",
    "Als er geen botsing is tussen de twee voertuigen dan geeft de functie 'False' als boolean waarde terug. "
   ]
  },
  {
   "cell_type": "code",
   "execution_count": 7,
   "metadata": {},
   "outputs": [
    {
     "data": {
      "image/png": "[encoded data removed]",
      "text/plain": [
       "<Figure size 432x288 with 1 Axes>"
      ]
     },
     "metadata": {
      "needs_background": "light"
     },
     "output_type": "display_data"
    },
    {
     "name": "stdout",
     "output_type": "stream",
     "text": [
      "geen botsing tussen auto1 en auto2\n",
      "tussen 0.5s en 0.6s vind een botsing plaats tussen \n",
      "auto1 en auto3\n",
      "geen botsing tussen auto2 en auto3\n"
     ]
    }
   ],
   "source": [
    "def findPositions():\n",
    "    readFileSpeeds()\n",
    "\n",
    "    plt.subplot(2, 1, 2)\n",
    "    plt.plot(timeFile2, speed1)\n",
    "    plt.plot(timeFile2, speed2)\n",
    "    plt.plot(timeFile2, speed3)\n",
    "    plt.xlim([0,10])\n",
    "    plt.ylim([0,5])\n",
    "    plt.ylabel(\"position (m)\")\n",
    "    plt.xlabel(\"time (s)\")\n",
    "    plt.show()\n",
    "\n",
    "    if findCollisions(speed1, speed2):\n",
    "        print(\"auto1 en auto2\")\n",
    "    else:\n",
    "        print(\"geen botsing tussen auto1 en auto2\")\n",
    "\n",
    "    if findCollisions(speed1, speed3):\n",
    "        print(\"auto1 en auto3\")\n",
    "    else:\n",
    "        print(\"geen botsing tussen auto1 en auto3\")\n",
    "\n",
    "    if findCollisions(speed2, speed3):\n",
    "        print(\"auto2 en auto3\")\n",
    "    else:\n",
    "        print(\"geen botsing tussen auto2 en auto3\")\n",
    "\n",
    "\n",
    "findPositions()"
   ]
  },
  {
   "cell_type": "markdown",
   "metadata": {},
   "source": [
    "findPositions() is de main functie voor het tweede onderdeel van deze opdracht. Het roept 'readFileSpeeds()' aan om het tweede csv bestand in te lezen. Ook maakt deze functie een plot aan om de posities van de auto's weer te geven (ook zorgt deze functie er ook voor dat de plot van deel 1 wordt weergegeven). \n",
    "\n",
    "Tot slot roept deze functie 'findCollisions' aan om uit te vochelen of er botsingen tussen de 3 voertuigen plaats vindt. Als dit zo is dan print de functie uit tussen welke auto's deze botsing plaats vindt. "
   ]
  }
 ],
 "metadata": {
  "kernelspec": {
   "display_name": "Python 3",
   "language": "python",
   "name": "python3"
  },
  "language_info": {
   "codemirror_mode": {
    "name": "ipython",
    "version": 3
   },
   "file_extension": ".py",
   "mimetype": "text/x-python",
   "name": "python",
   "nbconvert_exporter": "python",
   "pygments_lexer": "ipython3",
   "version": "3.6.7"
  }
 },
 "nbformat": 4,
 "nbformat_minor": 2
}
